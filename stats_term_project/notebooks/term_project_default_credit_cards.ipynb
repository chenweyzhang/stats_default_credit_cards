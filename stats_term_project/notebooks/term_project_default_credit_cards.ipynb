{
 "cells": [
  {
   "cell_type": "markdown",
   "metadata": {},
   "source": [
    "# Term Project - Statistics for Data Science\n",
    "## Exploratory Data Analysis\n",
    "### Group 6\n",
    "* Kalyan Bondada\n",
    "* Shitiz Kumar Goyal\n",
    "* Carlos Hinrichsen Picand\n",
    "* Priyanka Kamboj\n",
    "* Katya Ramos\n"
   ]
  },
  {
   "cell_type": "markdown",
   "metadata": {},
   "source": [
    "# Summary"
   ]
  },
  {
   "cell_type": "markdown",
   "metadata": {},
   "source": [
    "This notebook has the following structure:\n",
    "1. __General Information of Data Set__\n",
    "2. __Exploratory Analysis__\n",
    "3. __Classification Analysis__"
   ]
  },
  {
   "cell_type": "markdown",
   "metadata": {},
   "source": [
    "# I. General Information of Data Set"
   ]
  },
  {
   "cell_type": "markdown",
   "metadata": {},
   "source": [
    "### Default of Credit Card Clients Data Set\n",
    "\n",
    "In our term project we will use the data set of default credit card clients, provided in the webpage of the UCI Machine Learning Repository: https://archive.ics.uci.edu/ml/datasets/default+of+credit+card+clients"
   ]
  },
  {
   "cell_type": "markdown",
   "metadata": {},
   "source": [
    "### Data Set Information:\n",
    "\n",
    "1. The default variable, `default payment next month`, is the response variable (Y)\n",
    "\n",
    "On the other hand, we have the following potential predictors:\n",
    "\n",
    "1. `LIMIT_BAL`: Amount of the given credit (NT dollar): it includes both the individual consumer credit and his/her family (supplementary) credit\n",
    "2. `SEX`: (1 = male; 2 = female)\n",
    "3. `EDUCATION`: (1 = graduate school; 2 = university; 3 = high school; 4 = others) \n",
    "4. `MARRIAGE`: (1 = married; 2 = single; 3 = others) \n",
    "5. `AGE`: (year). \n",
    "6. History of past payment. We tracked the past monthly payment records (from April to September, 2005) as follows: `PAY_0` = the repayment status in September, 2005; `PAY_2` = the repayment status in August, 2005; . . .;`PAY_6` = the repayment status in April, 2005. The measurement scale for the repayment status is: -1 = pay duly; 1 = payment delay for one month; 2 = payment delay for two months; . . .; 8 = payment delay for eight months; 9 = payment delay for nine months and above. \n",
    "7. Amount of bill statement (NT dollar). `BILL_AMT1` = amount of bill statement in September, 2005; `BILL_AMT2` = amount of bill statement in August, 2005; . . .; `BILL_AMT6` = amount of bill statement in April, 2005. \n",
    "8. Amount of previous payment (NT dollar). `PAY_AMT1` = amount paid in September, 2005; `PAY_AMT2` = amount paid in August, 2005; . . .;`PAY_AMT6` = amount paid in April, 2005. "
   ]
  },
  {
   "cell_type": "markdown",
   "metadata": {},
   "source": [
    "__Below you will find a series of steps in order to understand the data:__"
   ]
  },
  {
   "cell_type": "markdown",
   "metadata": {},
   "source": [
    "# II. Exploratory Analysis"
   ]
  },
  {
   "cell_type": "markdown",
   "metadata": {},
   "source": [
    "## 1. Import Required Libraries"
   ]
  },
  {
   "cell_type": "code",
   "execution_count": 1,
   "metadata": {},
   "outputs": [],
   "source": [
    "import matplotlib as mpl\n",
    "import matplotlib.pyplot as plt\n",
    "import seaborn as sns\n",
    "import numpy as np\n",
    "import math\n",
    "import random\n",
    "import pandas as pd\n",
    "plt.style.use('ggplot')"
   ]
  },
  {
   "cell_type": "markdown",
   "metadata": {},
   "source": [
    "## 2. Upload the `default of credit card clients.xls` data to explore"
   ]
  },
  {
   "cell_type": "code",
   "execution_count": 2,
   "metadata": {},
   "outputs": [
    {
     "ename": "FileNotFoundError",
     "evalue": "[Errno 2] No such file or directory: 'default of credit card clients.xls'",
     "output_type": "error",
     "traceback": [
      "\u001b[0;31m---------------------------------------------------------------------------\u001b[0m",
      "\u001b[0;31mFileNotFoundError\u001b[0m                         Traceback (most recent call last)",
      "\u001b[0;32m<ipython-input-2-7f140c0f57ab>\u001b[0m in \u001b[0;36m<module>\u001b[0;34m()\u001b[0m\n\u001b[1;32m      1\u001b[0m \u001b[0;32mimport\u001b[0m \u001b[0mpandas\u001b[0m \u001b[0;32mas\u001b[0m \u001b[0mpd\u001b[0m\u001b[0;34m\u001b[0m\u001b[0m\n\u001b[0;32m----> 2\u001b[0;31m \u001b[0modata\u001b[0m \u001b[0;34m=\u001b[0m \u001b[0mpd\u001b[0m\u001b[0;34m.\u001b[0m\u001b[0mread_excel\u001b[0m\u001b[0;34m(\u001b[0m\u001b[0;34m'default of credit card clients.xls'\u001b[0m\u001b[0;34m,\u001b[0m \u001b[0mheader\u001b[0m\u001b[0;34m=\u001b[0m\u001b[0;34m[\u001b[0m\u001b[0;36m1\u001b[0m\u001b[0;34m]\u001b[0m\u001b[0;34m,\u001b[0m\u001b[0msheet_name\u001b[0m\u001b[0;34m=\u001b[0m\u001b[0;34m\"Data\"\u001b[0m\u001b[0;34m)\u001b[0m\u001b[0;34m\u001b[0m\u001b[0m\n\u001b[0m",
      "\u001b[0;32m~/anaconda3/lib/python3.6/site-packages/pandas/util/_decorators.py\u001b[0m in \u001b[0;36mwrapper\u001b[0;34m(*args, **kwargs)\u001b[0m\n\u001b[1;32m    116\u001b[0m                 \u001b[0;32melse\u001b[0m\u001b[0;34m:\u001b[0m\u001b[0;34m\u001b[0m\u001b[0m\n\u001b[1;32m    117\u001b[0m                     \u001b[0mkwargs\u001b[0m\u001b[0;34m[\u001b[0m\u001b[0mnew_arg_name\u001b[0m\u001b[0;34m]\u001b[0m \u001b[0;34m=\u001b[0m \u001b[0mnew_arg_value\u001b[0m\u001b[0;34m\u001b[0m\u001b[0m\n\u001b[0;32m--> 118\u001b[0;31m             \u001b[0;32mreturn\u001b[0m \u001b[0mfunc\u001b[0m\u001b[0;34m(\u001b[0m\u001b[0;34m*\u001b[0m\u001b[0margs\u001b[0m\u001b[0;34m,\u001b[0m \u001b[0;34m**\u001b[0m\u001b[0mkwargs\u001b[0m\u001b[0;34m)\u001b[0m\u001b[0;34m\u001b[0m\u001b[0m\n\u001b[0m\u001b[1;32m    119\u001b[0m         \u001b[0;32mreturn\u001b[0m \u001b[0mwrapper\u001b[0m\u001b[0;34m\u001b[0m\u001b[0m\n\u001b[1;32m    120\u001b[0m     \u001b[0;32mreturn\u001b[0m \u001b[0m_deprecate_kwarg\u001b[0m\u001b[0;34m\u001b[0m\u001b[0m\n",
      "\u001b[0;32m~/anaconda3/lib/python3.6/site-packages/pandas/io/excel.py\u001b[0m in \u001b[0;36mread_excel\u001b[0;34m(io, sheet_name, header, skiprows, skip_footer, index_col, names, usecols, parse_dates, date_parser, na_values, thousands, convert_float, converters, dtype, true_values, false_values, engine, squeeze, **kwds)\u001b[0m\n\u001b[1;32m    228\u001b[0m \u001b[0;34m\u001b[0m\u001b[0m\n\u001b[1;32m    229\u001b[0m     \u001b[0;32mif\u001b[0m \u001b[0;32mnot\u001b[0m \u001b[0misinstance\u001b[0m\u001b[0;34m(\u001b[0m\u001b[0mio\u001b[0m\u001b[0;34m,\u001b[0m \u001b[0mExcelFile\u001b[0m\u001b[0;34m)\u001b[0m\u001b[0;34m:\u001b[0m\u001b[0;34m\u001b[0m\u001b[0m\n\u001b[0;32m--> 230\u001b[0;31m         \u001b[0mio\u001b[0m \u001b[0;34m=\u001b[0m \u001b[0mExcelFile\u001b[0m\u001b[0;34m(\u001b[0m\u001b[0mio\u001b[0m\u001b[0;34m,\u001b[0m \u001b[0mengine\u001b[0m\u001b[0;34m=\u001b[0m\u001b[0mengine\u001b[0m\u001b[0;34m)\u001b[0m\u001b[0;34m\u001b[0m\u001b[0m\n\u001b[0m\u001b[1;32m    231\u001b[0m \u001b[0;34m\u001b[0m\u001b[0m\n\u001b[1;32m    232\u001b[0m     return io._parse_excel(\n",
      "\u001b[0;32m~/anaconda3/lib/python3.6/site-packages/pandas/io/excel.py\u001b[0m in \u001b[0;36m__init__\u001b[0;34m(self, io, **kwds)\u001b[0m\n\u001b[1;32m    292\u001b[0m             \u001b[0mself\u001b[0m\u001b[0;34m.\u001b[0m\u001b[0mbook\u001b[0m \u001b[0;34m=\u001b[0m \u001b[0mxlrd\u001b[0m\u001b[0;34m.\u001b[0m\u001b[0mopen_workbook\u001b[0m\u001b[0;34m(\u001b[0m\u001b[0mfile_contents\u001b[0m\u001b[0;34m=\u001b[0m\u001b[0mdata\u001b[0m\u001b[0;34m)\u001b[0m\u001b[0;34m\u001b[0m\u001b[0m\n\u001b[1;32m    293\u001b[0m         \u001b[0;32melif\u001b[0m \u001b[0misinstance\u001b[0m\u001b[0;34m(\u001b[0m\u001b[0mself\u001b[0m\u001b[0;34m.\u001b[0m\u001b[0m_io\u001b[0m\u001b[0;34m,\u001b[0m \u001b[0mcompat\u001b[0m\u001b[0;34m.\u001b[0m\u001b[0mstring_types\u001b[0m\u001b[0;34m)\u001b[0m\u001b[0;34m:\u001b[0m\u001b[0;34m\u001b[0m\u001b[0m\n\u001b[0;32m--> 294\u001b[0;31m             \u001b[0mself\u001b[0m\u001b[0;34m.\u001b[0m\u001b[0mbook\u001b[0m \u001b[0;34m=\u001b[0m \u001b[0mxlrd\u001b[0m\u001b[0;34m.\u001b[0m\u001b[0mopen_workbook\u001b[0m\u001b[0;34m(\u001b[0m\u001b[0mself\u001b[0m\u001b[0;34m.\u001b[0m\u001b[0m_io\u001b[0m\u001b[0;34m)\u001b[0m\u001b[0;34m\u001b[0m\u001b[0m\n\u001b[0m\u001b[1;32m    295\u001b[0m         \u001b[0;32melse\u001b[0m\u001b[0;34m:\u001b[0m\u001b[0;34m\u001b[0m\u001b[0m\n\u001b[1;32m    296\u001b[0m             raise ValueError('Must explicitly set engine if not passing in'\n",
      "\u001b[0;32m~/anaconda3/lib/python3.6/site-packages/xlrd/__init__.py\u001b[0m in \u001b[0;36mopen_workbook\u001b[0;34m(filename, logfile, verbosity, use_mmap, file_contents, encoding_override, formatting_info, on_demand, ragged_rows)\u001b[0m\n\u001b[1;32m    114\u001b[0m         \u001b[0mpeek\u001b[0m \u001b[0;34m=\u001b[0m \u001b[0mfile_contents\u001b[0m\u001b[0;34m[\u001b[0m\u001b[0;34m:\u001b[0m\u001b[0mpeeksz\u001b[0m\u001b[0;34m]\u001b[0m\u001b[0;34m\u001b[0m\u001b[0m\n\u001b[1;32m    115\u001b[0m     \u001b[0;32melse\u001b[0m\u001b[0;34m:\u001b[0m\u001b[0;34m\u001b[0m\u001b[0m\n\u001b[0;32m--> 116\u001b[0;31m         \u001b[0;32mwith\u001b[0m \u001b[0mopen\u001b[0m\u001b[0;34m(\u001b[0m\u001b[0mfilename\u001b[0m\u001b[0;34m,\u001b[0m \u001b[0;34m\"rb\"\u001b[0m\u001b[0;34m)\u001b[0m \u001b[0;32mas\u001b[0m \u001b[0mf\u001b[0m\u001b[0;34m:\u001b[0m\u001b[0;34m\u001b[0m\u001b[0m\n\u001b[0m\u001b[1;32m    117\u001b[0m             \u001b[0mpeek\u001b[0m \u001b[0;34m=\u001b[0m \u001b[0mf\u001b[0m\u001b[0;34m.\u001b[0m\u001b[0mread\u001b[0m\u001b[0;34m(\u001b[0m\u001b[0mpeeksz\u001b[0m\u001b[0;34m)\u001b[0m\u001b[0;34m\u001b[0m\u001b[0m\n\u001b[1;32m    118\u001b[0m     \u001b[0;32mif\u001b[0m \u001b[0mpeek\u001b[0m \u001b[0;34m==\u001b[0m \u001b[0;34mb\"PK\\x03\\x04\"\u001b[0m\u001b[0;34m:\u001b[0m \u001b[0;31m# a ZIP file\u001b[0m\u001b[0;34m\u001b[0m\u001b[0m\n",
      "\u001b[0;31mFileNotFoundError\u001b[0m: [Errno 2] No such file or directory: 'default of credit card clients.xls'"
     ]
    }
   ],
   "source": [
    "import pandas as pd\n",
    "odata = pd.read_excel('../data/raw/default of credit card clients.xls', header=[1],sheet_name=\"Data\")"
   ]
  },
  {
   "cell_type": "markdown",
   "metadata": {},
   "source": [
    "## 3. Exploring the raw data set"
   ]
  },
  {
   "cell_type": "markdown",
   "metadata": {},
   "source": [
    "The names of the different variables is shown below."
   ]
  },
  {
   "cell_type": "code",
   "execution_count": null,
   "metadata": {},
   "outputs": [],
   "source": [
    "# Extract column names\n",
    "odata.columns"
   ]
  },
  {
   "cell_type": "markdown",
   "metadata": {},
   "source": [
    "Now, we will review the general characteristics of the dataset, and then review the data."
   ]
  },
  {
   "cell_type": "code",
   "execution_count": null,
   "metadata": {},
   "outputs": [],
   "source": [
    "# Extract information of dataset\n",
    "odata.info()"
   ]
  },
  {
   "cell_type": "markdown",
   "metadata": {},
   "source": [
    "Looking for the general description of the data"
   ]
  },
  {
   "cell_type": "code",
   "execution_count": null,
   "metadata": {},
   "outputs": [],
   "source": [
    "# Extract description\n",
    "odata.describe()"
   ]
  },
  {
   "cell_type": "markdown",
   "metadata": {},
   "source": [
    "Important things to notice:\n",
    "\n",
    "__1. There are no NAN observations in the dataset__ \n",
    "\n",
    "__2. All the variables are saved as int. Clearly most of the variables are categorical (not considering cases like `LIMIT_BAL` and bill and payment amounts)__\n",
    "\n",
    "__3. The ID variable is not relevant. It should be removed__\n",
    "\n",
    "__4. We will change the name of the variable `default payment next month` to `DEFAULT`__\n",
    "\n",
    "__5. In the variables `EDUCATION`, `MARRIAGE`, and the different categories of Payments, have more categories as the described in the dataset description webpage. We will need to review each variable in order to understand what is happening__\n",
    "\n",
    "__The most important statistic that we can see is that only__ __$22.12$%__ __of the people are in the default category.__"
   ]
  },
  {
   "cell_type": "code",
   "execution_count": null,
   "metadata": {},
   "outputs": [],
   "source": [
    "# Showing the data\n",
    "odata"
   ]
  },
  {
   "cell_type": "markdown",
   "metadata": {},
   "source": [
    "## 4. Data Cleaning\n",
    "\n",
    "As explained above, we will first drop the irrelevant variables: ID, and rename the Default variable:"
   ]
  },
  {
   "cell_type": "code",
   "execution_count": null,
   "metadata": {},
   "outputs": [],
   "source": [
    "# Dropping the columns\n",
    "odata = odata.drop(['ID'], axis=1)"
   ]
  },
  {
   "cell_type": "code",
   "execution_count": null,
   "metadata": {},
   "outputs": [],
   "source": [
    "# Remaning the default variable name\n",
    "odata.rename(columns={'default payment next month':'DEFAULT'},inplace=True)"
   ]
  },
  {
   "cell_type": "code",
   "execution_count": null,
   "metadata": {},
   "outputs": [],
   "source": [
    "odata.info()"
   ]
  },
  {
   "cell_type": "markdown",
   "metadata": {},
   "source": [
    "Now we will review the variables that have more categories as explained in the data set information"
   ]
  },
  {
   "cell_type": "markdown",
   "metadata": {},
   "source": [
    "First, `EDUCATION`:"
   ]
  },
  {
   "cell_type": "code",
   "execution_count": null,
   "metadata": {},
   "outputs": [],
   "source": [
    "odata.EDUCATION.value_counts()/odata.EDUCATION.size*100"
   ]
  },
  {
   "cell_type": "markdown",
   "metadata": {},
   "source": [
    "We can see that the categories described in the dataset information, 1 to 4, corresponds to over $95\\%$ of the data. Therefore we will remove the other categories "
   ]
  },
  {
   "cell_type": "code",
   "execution_count": null,
   "metadata": {},
   "outputs": [],
   "source": [
    "odata = odata[(odata.EDUCATION!=0) & (odata.EDUCATION!=5) & (odata.EDUCATION!=6)]\n",
    "odata.EDUCATION.value_counts()"
   ]
  },
  {
   "cell_type": "markdown",
   "metadata": {},
   "source": [
    "Second, `MARRIAGE`:"
   ]
  },
  {
   "cell_type": "code",
   "execution_count": null,
   "metadata": {},
   "outputs": [],
   "source": [
    "odata.MARRIAGE.value_counts()/odata.MARRIAGE.size*100"
   ]
  },
  {
   "cell_type": "markdown",
   "metadata": {},
   "source": [
    "We can see that the categories described in the dataset information, 1 to 3, corresponds to over $95\\%$ of the data. Therefore we will remove the othe category "
   ]
  },
  {
   "cell_type": "code",
   "execution_count": null,
   "metadata": {},
   "outputs": [],
   "source": [
    "odata = odata[(odata.MARRIAGE!=0)]\n",
    "odata.MARRIAGE.value_counts()"
   ]
  },
  {
   "cell_type": "markdown",
   "metadata": {},
   "source": [
    "Third, payment categories:\n",
    "1. `PAY_0`"
   ]
  },
  {
   "cell_type": "code",
   "execution_count": null,
   "metadata": {},
   "outputs": [],
   "source": [
    "odata.PAY_0.value_counts()/odata.PAY_0.size*100"
   ]
  },
  {
   "cell_type": "markdown",
   "metadata": {},
   "source": [
    "We can see that the categories __NOT__ described in the dataset information, -2 and 0, corresponds to over $55\\%$ of the data. Therefore we can't remove these categories. We will need further analysis. \n",
    "\n",
    "Before this, we will review the other payments categories to see if this behaviour is the same in the other variables"
   ]
  },
  {
   "cell_type": "markdown",
   "metadata": {},
   "source": [
    "2. `PAY_2`"
   ]
  },
  {
   "cell_type": "code",
   "execution_count": null,
   "metadata": {},
   "outputs": [],
   "source": [
    "odata.PAY_2.value_counts()/odata.PAY_2.size*100"
   ]
  },
  {
   "cell_type": "markdown",
   "metadata": {},
   "source": [
    "3. `PAY_3`"
   ]
  },
  {
   "cell_type": "code",
   "execution_count": null,
   "metadata": {},
   "outputs": [],
   "source": [
    "odata.PAY_3.value_counts()/odata.PAY_3.size*100"
   ]
  },
  {
   "cell_type": "markdown",
   "metadata": {},
   "source": [
    "4. `PAY_4`"
   ]
  },
  {
   "cell_type": "code",
   "execution_count": null,
   "metadata": {},
   "outputs": [],
   "source": [
    "odata.PAY_4.value_counts()/odata.PAY_4.size*100"
   ]
  },
  {
   "cell_type": "markdown",
   "metadata": {},
   "source": [
    "5. `PAY_5`"
   ]
  },
  {
   "cell_type": "code",
   "execution_count": null,
   "metadata": {},
   "outputs": [],
   "source": [
    "odata.PAY_5.value_counts()/odata.PAY_5.size*100"
   ]
  },
  {
   "cell_type": "markdown",
   "metadata": {},
   "source": [
    "6. `PAY_6`"
   ]
  },
  {
   "cell_type": "code",
   "execution_count": null,
   "metadata": {},
   "outputs": [],
   "source": [
    "odata.PAY_6.value_counts()/odata.PAY_6.size*100"
   ]
  },
  {
   "cell_type": "markdown",
   "metadata": {},
   "source": [
    "We can see that the effect of these two categories is getting bigger in the early past payments (for example, `PAY_6`is from April 2005, and `PAY_0`is from September 2005) "
   ]
  },
  {
   "cell_type": "markdown",
   "metadata": {},
   "source": [
    "### 4.1 Payments Review\n",
    "\n",
    "In order to understand the categories described above, we will review a subset of the data, particullarly the data related to statements and payments.\n",
    "\n",
    "Let's subset the data:"
   ]
  },
  {
   "cell_type": "code",
   "execution_count": null,
   "metadata": {},
   "outputs": [],
   "source": [
    "odata_s = odata.copy()\n",
    "# Subset the data\n",
    "odata_s = odata_s.iloc[:,5:23]\n",
    "odata_s.head(15)"
   ]
  },
  {
   "cell_type": "markdown",
   "metadata": {},
   "source": [
    "The first thing is to understand the logic in the payment information: As credit card users, we know that regullarly we receive our statement in one month, let's say $May 15^{th}$, and the due dat is usually one month before, in this case $June 15^{th}$. So usually there is a lag in time about our payment information, and our dataset should reflect that. For this purpose, let's look the individual #11 of the table above:  \n",
    "\n",
    "* The variable `BILL_AMT2` is the bill amount of August 2005, which is $21670$. Following the logic, we should pay this bill statement on September 2005, which is the variable `PAY_AMT1` and corresponds to $21818$. In this case the bill was full payed, so the variable `PAY_2` should reflect that. In fact is true because the uput of the variable is -1, therefore the bill way pay in time. If the see the other statements and payments, the logic remains.\n",
    "\n",
    "Let's see this effect in a plot:\n"
   ]
  },
  {
   "cell_type": "code",
   "execution_count": null,
   "metadata": {},
   "outputs": [],
   "source": [
    "plt.rc('figure', figsize=(8, 8))\n",
    "pl_pay0 = sns.scatterplot(x=\"BILL_AMT2\", y=\"PAY_AMT1\",hue=\"PAY_2\", size=\"PAY_2\",sizes=(20, 300), palette=\"Set2\",legend=\"full\", alpha=0.5,data=odata_s)\n",
    "plt.plot(odata_s.BILL_AMT2, odata_s.BILL_AMT2, '--r')"
   ]
  },
  {
   "cell_type": "markdown",
   "metadata": {},
   "source": [
    "We can see that most of the cases are plotted correctly according to tha variable `PAY_1`. Additionally, there are cases where the `BILL_AMT2` is negative, therefore it's a credit or it's an error. This same observations is shown in the following plots. \n",
    "\n",
    "Now let's be suspicuious about this, and think that the variables are defined one by one, I mean that the variables `BILL_AMT1`is related to `PAY_AMT1`and `PAY_0`. The plot is the following:\n",
    "\n"
   ]
  },
  {
   "cell_type": "code",
   "execution_count": null,
   "metadata": {},
   "outputs": [],
   "source": [
    "plt.rc('figure', figsize=(8, 8))\n",
    "pl_pay0 = sns.scatterplot(x=\"BILL_AMT1\", y=\"PAY_AMT1\",hue=\"PAY_0\", size=\"PAY_0\",sizes=(20, 300), palette=\"Set2\",legend=\"full\", alpha=0.5,data=odata_s)\n",
    "plt.plot(odata_s.BILL_AMT1, odata_s.BILL_AMT1, '--r')"
   ]
  },
  {
   "cell_type": "markdown",
   "metadata": {},
   "source": [
    "Nos we can see that the effect is worst here, because there are more observations labelled incorrectly. So, in that case we will assume that the correct logic is the one of the first plot.\n",
    "\n",
    "Let's plot the rest of them:"
   ]
  },
  {
   "cell_type": "markdown",
   "metadata": {},
   "source": [
    "Related to other `PAY` variables:"
   ]
  },
  {
   "cell_type": "code",
   "execution_count": null,
   "metadata": {},
   "outputs": [],
   "source": [
    "plt.rc('figure', figsize=(15, 15))\n",
    "plt.subplot(2,2,1)\n",
    "pl_pay2 = sns.scatterplot(x=\"BILL_AMT3\", y=\"PAY_AMT2\",hue=\"PAY_3\", size=\"PAY_3\",sizes=(20, 300), palette=\"Set2\",legend=\"full\", alpha=0.5,data=odata_s)\n",
    "plt.plot(odata_s.BILL_AMT3, odata_s.BILL_AMT3, '--r')\n",
    "plt.subplot(2,2,2)\n",
    "pl_pay3 = sns.scatterplot(x=\"BILL_AMT4\", y=\"PAY_AMT3\",hue=\"PAY_4\", size=\"PAY_4\",sizes=(20, 300), palette=\"Set2\",legend=\"full\", alpha=0.5,data=odata_s)\n",
    "plt.plot(odata_s.BILL_AMT4, odata_s.BILL_AMT4, '--r')\n",
    "plt.subplot(2,2,3)\n",
    "pl_pay4 = sns.scatterplot(x=\"BILL_AMT5\", y=\"PAY_AMT4\",hue=\"PAY_5\", size=\"PAY_5\",sizes=(20, 300), palette=\"Set2\",legend=\"full\", alpha=0.5,data=odata_s)\n",
    "plt.plot(odata_s.BILL_AMT5, odata_s.BILL_AMT5, '--r')\n",
    "plt.subplot(2,2,4)\n",
    "pl_pay5 = sns.scatterplot(x=\"BILL_AMT6\", y=\"PAY_AMT5\",hue=\"PAY_6\", size=\"PAY_6\",sizes=(20, 300), palette=\"Set2\",legend=\"full\", alpha=0.5,data=odata_s)\n",
    "plt.plot(odata_s.BILL_AMT6, odata_s.BILL_AMT6, '--r')"
   ]
  },
  {
   "cell_type": "markdown",
   "metadata": {},
   "source": [
    "As the first plot, we can see the same structure here. \n",
    "\n",
    "Due the lag, we can't use the variable `PAY_AMT6`.\n",
    "\n",
    "Considering the previous analysis, we can say:\n",
    "\n",
    "* Considering that the information of the variables `PAY` are a transformation of information of other variables, we should eliminate the variables `PAY_AMT` and `BILL_AMT`. \n",
    "* Because of the lag, it's not possible to reproduce all `PAY` variables, but these have more relevant information than `PAY_AMT` and `BILL_AMT` variables. \n",
    "\n",
    "Before doing that, let's plot the rest of the plots defined by the variables without the lag, just to be sure about the effects."
   ]
  },
  {
   "cell_type": "code",
   "execution_count": null,
   "metadata": {},
   "outputs": [],
   "source": [
    "plt.rc('figure', figsize=(15, 15))\n",
    "plt.subplot(2,3,1)\n",
    "sns.scatterplot(x=\"BILL_AMT2\", y=\"PAY_AMT2\",hue=\"PAY_2\", size=\"PAY_2\",sizes=(20, 300), palette=\"Set2\",legend=\"full\", alpha=0.5,data=odata_s)\n",
    "plt.plot(odata_s.BILL_AMT2, odata_s.BILL_AMT2, '--r')\n",
    "plt.subplot(2,3,2)\n",
    "sns.scatterplot(x=\"BILL_AMT3\", y=\"PAY_AMT3\",hue=\"PAY_3\", size=\"PAY_3\",sizes=(20, 300), palette=\"Set2\",legend=\"full\", alpha=0.5,data=odata_s)\n",
    "plt.plot(odata_s.BILL_AMT3, odata_s.BILL_AMT3, '--r')\n",
    "plt.subplot(2,3,3)\n",
    "sns.scatterplot(x=\"BILL_AMT4\", y=\"PAY_AMT4\",hue=\"PAY_4\", size=\"PAY_4\",sizes=(20, 300), palette=\"Set2\",legend=\"full\", alpha=0.5,data=odata_s)\n",
    "plt.plot(odata_s.BILL_AMT4, odata_s.BILL_AMT4, '--r')\n",
    "plt.subplot(2,3,4)\n",
    "sns.scatterplot(x=\"BILL_AMT5\", y=\"PAY_AMT5\",hue=\"PAY_5\", size=\"PAY_5\",sizes=(20, 300), palette=\"Set2\",legend=\"full\", alpha=0.5,data=odata_s)\n",
    "plt.plot(odata_s.BILL_AMT5, odata_s.BILL_AMT5, '--r')\n",
    "plt.subplot(2,3,5)\n",
    "sns.scatterplot(x=\"BILL_AMT6\", y=\"PAY_AMT6\",hue=\"PAY_6\", size=\"PAY_6\",sizes=(20, 300), palette=\"Set2\",legend=\"full\", alpha=0.5,data=odata_s)\n",
    "plt.plot(odata_s.BILL_AMT6, odata_s.BILL_AMT6, '--r')"
   ]
  },
  {
   "cell_type": "markdown",
   "metadata": {},
   "source": [
    "We have the same effect, therefore..."
   ]
  },
  {
   "cell_type": "code",
   "execution_count": null,
   "metadata": {},
   "outputs": [],
   "source": [
    "# Dropping the variables\n",
    "odata = odata.drop(['BILL_AMT1','BILL_AMT2','BILL_AMT3','BILL_AMT4','BILL_AMT5','BILL_AMT6','PAY_AMT1','PAY_AMT2','PAY_AMT3','PAY_AMT4','PAY_AMT5','PAY_AMT6'], axis=1)"
   ]
  },
  {
   "cell_type": "code",
   "execution_count": null,
   "metadata": {},
   "outputs": [],
   "source": [
    "odata.head()"
   ]
  },
  {
   "cell_type": "markdown",
   "metadata": {},
   "source": [
    "## 5. Data Transformation\n",
    "\n",
    "We will do a few transformations. Mainly to create categorical variables and create another two variables which is the sum of the different `PAY` variables. The logic is the lower this number is, the better chances is not no be on default. \n",
    "\n",
    "Before doing any transformation, let's notice the meaning of the different `PAY` variables:\n",
    "\n",
    "* __-2:__ No Consumption\n",
    "* __-1:__ Pay duly\n",
    "* __0:__ The use of revolving credit\n",
    "* __N:__ Payment delay for N months (N=1,2,...,8)\n",
    "* __9:__ Payment delay for 9 months and above\n",
    "\n",
    "Therefore, more than categorical, `PAY` variables is like a scale. Basically because these numbers could reflect the risk that the bank could take. A client with no consumption means that the bank has no risk, a client with consumption buy paying duly has risk, but very low, and the same logic with the rest of the number above. Consequently, the lower the number, better for the bank considering risk.\n",
    "\n",
    "\n",
    "#### 5.1. Change \"Sex\", \"Education\", \"Marriage\", and \"Default\" variables into categorical type. \n",
    "\n",
    "In order to check that the transformation is working, we will cretae other variables. Once we check that the trasnformation is right, we will drop the original variables "
   ]
  },
  {
   "cell_type": "code",
   "execution_count": null,
   "metadata": {},
   "outputs": [],
   "source": [
    "odata['SEX_C'] = odata['SEX'].apply(lambda x: 'Male' if x == 1 else 'Female')\n",
    "odata['SEX_C'] = pd.Categorical(odata.SEX_C,categories=[\"Male\",\"Female\"])\n",
    "odata['EDUCATION_C'] = odata['EDUCATION'].apply(lambda x: 'Graduate' if x == 1 else ('University' if x==2 else ('High School' if x==3 else \"Others\")))\n",
    "odata['EDUCATION_C'] = pd.Categorical(odata.EDUCATION_C,categories=[\"Graduate\",\"University\",\"High School\",\"Others\"])\n",
    "odata['MARRIAGE_C'] = odata['MARRIAGE'].apply(lambda x: 'Married' if x == 1 else ('Single' if x==2 else \"Others\"))\n",
    "odata['MARRIAGE_C'] = pd.Categorical(odata.MARRIAGE_C,categories=[\"Married\",\"Single\",\"Others\"])\n",
    "odata['DEFAULT_C'] = odata['DEFAULT'].apply(lambda x: 'Default' if x == 1 else 'No Default')\n",
    "odata['DEFAULT_C'] = pd.Categorical(odata.DEFAULT_C,categories=[\"Default\",\"No Default\"])\n",
    "odata.head()"
   ]
  },
  {
   "cell_type": "markdown",
   "metadata": {},
   "source": [
    "The transformation is working properly, therefore we will drop the original variables "
   ]
  },
  {
   "cell_type": "code",
   "execution_count": null,
   "metadata": {},
   "outputs": [],
   "source": [
    "# Dropping the variables\n",
    "odata = odata.drop(['SEX','EDUCATION','MARRIAGE','DEFAULT'], axis=1)\n",
    "odata.head()"
   ]
  },
  {
   "cell_type": "markdown",
   "metadata": {},
   "source": [
    "The last transformation is to create categories for the Age according to statistics Canada: https://www.statcan.gc.ca/eng/concepts/definitions/age2\n",
    "\n",
    "The idea is no be able to analize better the relation between the variables. The categories are:\n",
    "\n",
    "1. __Youth:__ 15-24 years\n",
    "2. __Adults:__ 25-64 years\n",
    "3. __Senior:__ Over 65 years"
   ]
  },
  {
   "cell_type": "code",
   "execution_count": null,
   "metadata": {},
   "outputs": [],
   "source": [
    "# Creating the categories\n",
    "age_cat = pd.cut(odata.AGE, [14, 24, 64,100], include_lowest=False)\n",
    "odata['AGE_C'] = age_cat\n",
    "odata['AGE_C'] = pd.Categorical(odata.AGE_C)\n",
    "odata.head()"
   ]
  },
  {
   "cell_type": "markdown",
   "metadata": {},
   "source": [
    "Now let's drop the original variables"
   ]
  },
  {
   "cell_type": "code",
   "execution_count": null,
   "metadata": {},
   "outputs": [],
   "source": [
    "# Dropping the variable\n",
    "odata = odata.drop(['AGE'], axis=1)\n",
    "odata.head()"
   ]
  },
  {
   "cell_type": "markdown",
   "metadata": {},
   "source": [
    "#### 5.2. Create a new variables which is the sum of the `PAY` variables\n",
    "\n",
    "The logic is the lower this number is, the better chances is not no be on default."
   ]
  },
  {
   "cell_type": "code",
   "execution_count": null,
   "metadata": {},
   "outputs": [],
   "source": [
    "# Creating new variable\n",
    "odata['PAY_SUM'] = odata.PAY_0 + odata.PAY_2 + odata.PAY_3 + odata.PAY_4 + odata.PAY_5 + odata.PAY_6\n",
    "odata.head()"
   ]
  },
  {
   "cell_type": "markdown",
   "metadata": {},
   "source": [
    "Now we are ready to analyze the data"
   ]
  },
  {
   "cell_type": "markdown",
   "metadata": {},
   "source": [
    "## 6. Data Analysis\n",
    "\n",
    "#### 6.1. Relation between `DEFAULT_C`and `LIMIT_BAL` and `PAY_SUM`. \n"
   ]
  },
  {
   "cell_type": "markdown",
   "metadata": {},
   "source": [
    "First, let's count again the proportion of defaults:"
   ]
  },
  {
   "cell_type": "code",
   "execution_count": null,
   "metadata": {},
   "outputs": [],
   "source": [
    "odata.groupby(['DEFAULT_C']).size()/len(odata.DEFAULT_C)*100"
   ]
  },
  {
   "cell_type": "markdown",
   "metadata": {},
   "source": [
    "After the data cleaning, the proportion is practically the same.\n",
    "\n",
    "Nos the plotting:"
   ]
  },
  {
   "cell_type": "code",
   "execution_count": null,
   "metadata": {},
   "outputs": [],
   "source": [
    "plt.rc('figure', figsize=(15, 8))\n",
    "plt.subplot(1,2,1)\n",
    "sns.boxplot(x=\"DEFAULT_C\", y=\"LIMIT_BAL\",data=odata)\n",
    "plt.subplot(1,2,2)\n",
    "sns.boxplot(x=\"DEFAULT_C\", y=\"PAY_SUM\",data=odata)"
   ]
  },
  {
   "cell_type": "markdown",
   "metadata": {},
   "source": [
    "Looking the plots above, it's easy to see that the new variable, `PAY_SUM` could explain better the default than the `LIMIT_BAL`"
   ]
  },
  {
   "cell_type": "markdown",
   "metadata": {},
   "source": [
    "Now let's plot all the `PAY` variables:"
   ]
  },
  {
   "cell_type": "code",
   "execution_count": null,
   "metadata": {},
   "outputs": [],
   "source": [
    "plt.rc('figure', figsize=(15, 15))\n",
    "plt.subplot(2,3,1)\n",
    "sns.boxplot(x=\"DEFAULT_C\", y=\"PAY_0\",data=odata)\n",
    "plt.subplot(2,3,2)\n",
    "sns.boxplot(x=\"DEFAULT_C\", y=\"PAY_2\",data=odata)\n",
    "plt.subplot(2,3,3)\n",
    "sns.boxplot(x=\"DEFAULT_C\", y=\"PAY_3\",data=odata)\n",
    "plt.subplot(2,3,4)\n",
    "sns.boxplot(x=\"DEFAULT_C\", y=\"PAY_4\",data=odata)\n",
    "plt.subplot(2,3,5)\n",
    "sns.boxplot(x=\"DEFAULT_C\", y=\"PAY_5\",data=odata)\n",
    "plt.subplot(2,3,6)\n",
    "sns.boxplot(x=\"DEFAULT_C\", y=\"PAY_6\",data=odata)"
   ]
  },
  {
   "cell_type": "markdown",
   "metadata": {},
   "source": [
    "It's difficult to see a clear trend. But we can somewhat infer:\n",
    "\n",
    "* In general the \"No Defaults\" by month are with number below 0, which is correct\n",
    "* There are months when the number are represented as pay in time, but they are labelled as default. That's because in one month you can't see the whole behaviour on an individual\n",
    "* The overall, `PAY_SUM`, could be enough to represent the default variable, but if needed we can use every individual element of `PAY`"
   ]
  },
  {
   "cell_type": "markdown",
   "metadata": {},
   "source": [
    "#### 6.2. Relation between `DEFAULT_C` and `AGE_C`."
   ]
  },
  {
   "cell_type": "code",
   "execution_count": null,
   "metadata": {},
   "outputs": [],
   "source": [
    "odata.groupby(['AGE_C','DEFAULT_C']).size().unstack()/len(odata.DEFAULT_C)*100"
   ]
  },
  {
   "cell_type": "markdown",
   "metadata": {},
   "source": [
    "Most of the cases occur when the persons are adults, $\\approx 90$%, and the proportion of defaults it's almost the same as the whole dataset, therefore this age group could represent the dataset."
   ]
  },
  {
   "cell_type": "markdown",
   "metadata": {},
   "source": [
    "#### 6.3. Relation between `DEFAULT_C` and `SEX_C`."
   ]
  },
  {
   "cell_type": "code",
   "execution_count": null,
   "metadata": {},
   "outputs": [],
   "source": [
    "odata.groupby(['SEX_C','DEFAULT_C']).size().unstack()/len(odata.DEFAULT_C)*100"
   ]
  },
  {
   "cell_type": "markdown",
   "metadata": {},
   "source": [
    "We can see that there are more females than males ($60$% vs $40$%). Additionally, the males have a default tendency higher than females. Therefore, this variable could be good for the logistic regression. "
   ]
  },
  {
   "cell_type": "markdown",
   "metadata": {},
   "source": [
    "#### 6.4. Relation between `DEFAULT_C` and `EDUCATION_C`."
   ]
  },
  {
   "cell_type": "code",
   "execution_count": null,
   "metadata": {},
   "outputs": [],
   "source": [
    "odata.groupby(['EDUCATION_C','DEFAULT_C']).size().unstack()/len(odata.DEFAULT_C)*100"
   ]
  },
  {
   "cell_type": "markdown",
   "metadata": {},
   "source": [
    "It's not uncommon to think that the highest proportion of Default comes with lower education. Therefore, this also could be a good explanatory variable"
   ]
  },
  {
   "cell_type": "markdown",
   "metadata": {},
   "source": [
    "#### 6.5. Relation between `DEFAULT_C` and `MARRIAGE_C`."
   ]
  },
  {
   "cell_type": "code",
   "execution_count": null,
   "metadata": {},
   "outputs": [],
   "source": [
    "odata.groupby(['MARRIAGE_C','DEFAULT_C']).size().unstack()/len(odata.DEFAULT_C)*100"
   ]
  },
  {
   "cell_type": "markdown",
   "metadata": {},
   "source": [
    "Highest proportion comes to single persons."
   ]
  },
  {
   "cell_type": "markdown",
   "metadata": {},
   "source": [
    "#### 6.6. Relation between `DEFAULT_C` with `SEX_C` and `AGE_C`."
   ]
  },
  {
   "cell_type": "code",
   "execution_count": null,
   "metadata": {},
   "outputs": [],
   "source": [
    "odata.groupby(['SEX_C','AGE_C','DEFAULT_C']).size().unstack()/len(odata.DEFAULT_C)*100"
   ]
  },
  {
   "cell_type": "markdown",
   "metadata": {},
   "source": [
    "Here we can also see that the proportion of default of adult males is bigger than females. \n",
    "\n",
    "Additionally, youth females have higher proportion than youth males."
   ]
  },
  {
   "cell_type": "markdown",
   "metadata": {},
   "source": [
    "#### 6.7. Relation between `DEFAULT_C` with `EDUCATION_C` and `MARRIAGE_C`."
   ]
  },
  {
   "cell_type": "code",
   "execution_count": null,
   "metadata": {},
   "outputs": [],
   "source": [
    "odata.groupby(['EDUCATION_C','MARRIAGE_C','DEFAULT_C']).size().unstack()/len(odata.DEFAULT_C)*100"
   ]
  },
  {
   "cell_type": "markdown",
   "metadata": {},
   "source": [
    "Most of the married couples hold a University degree, and the single persons in this group are almost the same quantity ($\\approx 23$%). University singles have more tendency to default than graduate single ones.\n",
    "\n",
    "In the married couples, the the University ones have more tendency to default than graduate ones."
   ]
  },
  {
   "cell_type": "markdown",
   "metadata": {},
   "source": [
    "#### 6.8. Relation between `LIMIT_BAL` and `PAY_SUM`."
   ]
  },
  {
   "cell_type": "code",
   "execution_count": null,
   "metadata": {},
   "outputs": [],
   "source": [
    "plt.rc('figure', figsize=(7, 7))\n",
    "sns.scatterplot(x=\"PAY_SUM\",y=\"LIMIT_BAL\", data=odata)"
   ]
  },
  {
   "cell_type": "markdown",
   "metadata": {},
   "source": [
    "It's interesting to see that highest `LIMIT_BAL` not always have lowest `PAY_SUM`, which means a huge risk for the bank (look the point on the far right with a `PAY_SUM` over 30 and `LIMIT_BAL` over 500000). \n",
    "\n",
    "We can also see that there are scenarios with lowest `LIMIT_BAL` and very low default scenarios (low `PAY_SUM`). In this scenarios there is a potential opportunity to offer to the clients to upgrade the `LIMIT_BAL` according to their good payments behavior."
   ]
  },
  {
   "cell_type": "markdown",
   "metadata": {},
   "source": [
    "We can see the relation between `LIMIT_BAL `with every `PAY` variable using a correlation matrix."
   ]
  },
  {
   "cell_type": "code",
   "execution_count": null,
   "metadata": {},
   "outputs": [],
   "source": [
    "# Copy dataset \n",
    "odata_p =odata.copy()\n",
    "# Subset according\n",
    "odata_p = odata_p.loc[:, [\"LIMIT_BAL\",\"PAY_0\",\"PAY_2\",\"PAY_3\",\"PAY_4\",\"PAY_5\",\"PAY_6\",\"PAY_SUM\"]]\n",
    "plt.figure(figsize=(12, 8))\n",
    "sns.heatmap(odata_p.corr().round(4), annot=True,linewidths=1.0,vmin=-1,vmax=1,cmap=\"coolwarm\")"
   ]
  },
  {
   "cell_type": "markdown",
   "metadata": {},
   "source": [
    "It's interesting to see that each individual `PAY` category has a higher correlation with its adyacent neighbor. In other words, the highest correlation of `PAY_0` is with `PAY_1`, `PAY_2` is with `PAY_3`, etc. So, your payment behaviour has a trend between the months, if you pay on time one month it's likely that you will pay on time the next month. The same case when you are not paying on time.\n",
    "\n",
    "Another thing that we have to notice is that `PAY_SUM` has a higher correlation to `LIMIT_BAL` than any other individual payment categories."
   ]
  },
  {
   "cell_type": "markdown",
   "metadata": {},
   "source": [
    "#### 6.9. Relation between `LIMIT_BAL` and `PAY_SUM` with `AGE_C`."
   ]
  },
  {
   "cell_type": "code",
   "execution_count": null,
   "metadata": {},
   "outputs": [],
   "source": [
    "plt.rc('figure', figsize=(15, 7))\n",
    "plt.subplot(1,2,1)\n",
    "sns.boxplot(x=\"AGE_C\",y=\"LIMIT_BAL\", data=odata)\n",
    "plt.subplot(1,2,2)\n",
    "sns.boxplot(x=\"AGE_C\",y=\"PAY_SUM\", data=odata)"
   ]
  },
  {
   "cell_type": "markdown",
   "metadata": {},
   "source": [
    "From the boxplot we can see that with more age is more likely to have a higher `LIMIT_BAL`. This makes sense, because usually with age people become more responsible financially.\n",
    "\n",
    "Additionally, younger people has more chances to default, which is related to `PAY_SUM`."
   ]
  },
  {
   "cell_type": "markdown",
   "metadata": {},
   "source": [
    "#### 6.10. Relation between `LIMIT_BAL` and `PAY_SUM` with `SEX_C`."
   ]
  },
  {
   "cell_type": "code",
   "execution_count": null,
   "metadata": {},
   "outputs": [],
   "source": [
    "plt.rc('figure', figsize=(15, 7))\n",
    "plt.subplot(1,2,1)\n",
    "sns.boxplot(x=\"SEX_C\",y=\"LIMIT_BAL\", data=odata)\n",
    "plt.subplot(1,2,2)\n",
    "sns.boxplot(x=\"SEX_C\",y=\"PAY_SUM\", data=odata)"
   ]
  },
  {
   "cell_type": "markdown",
   "metadata": {},
   "source": [
    "In this case is not possible to distingish between male and female with the `LIMIT_BAL`.\n",
    "\n",
    "As previous analysis, males have a higher tendency to default than females."
   ]
  },
  {
   "cell_type": "markdown",
   "metadata": {},
   "source": [
    "#### 6.11. Relation between `LIMIT_BAL` and `PAY_SUM` with `EDUCATION_C`."
   ]
  },
  {
   "cell_type": "code",
   "execution_count": null,
   "metadata": {},
   "outputs": [],
   "source": [
    "plt.rc('figure', figsize=(15, 7))\n",
    "plt.subplot(1,2,1)\n",
    "sns.boxplot(x=\"EDUCATION_C\",y=\"LIMIT_BAL\", data=odata)\n",
    "plt.subplot(1,2,2)\n",
    "sns.boxplot(x=\"EDUCATION_C\",y=\"PAY_SUM\", data=odata)"
   ]
  },
  {
   "cell_type": "markdown",
   "metadata": {},
   "source": [
    "Higher education means higher `LIMIT_BAL`.\n",
    "\n",
    "On the other side, University and High School people have a higher tendency to default."
   ]
  },
  {
   "cell_type": "markdown",
   "metadata": {},
   "source": [
    "# III. Classification Analysis"
   ]
  },
  {
   "cell_type": "markdown",
   "metadata": {},
   "source": [
    "For this section, we will use the following dataset:"
   ]
  },
  {
   "cell_type": "code",
   "execution_count": null,
   "metadata": {},
   "outputs": [],
   "source": [
    "# Data for the analysis\n",
    "data_a = odata.copy()\n",
    "data_a.info()"
   ]
  },
  {
   "cell_type": "markdown",
   "metadata": {},
   "source": [
    "## 1. Logistic Regression"
   ]
  },
  {
   "cell_type": "markdown",
   "metadata": {},
   "source": [
    "## 2. KNN Classifier"
   ]
  }
 ],
 "metadata": {
  "kernelspec": {
   "display_name": "Python 3",
   "language": "python",
   "name": "python3"
  },
  "language_info": {
   "codemirror_mode": {
    "name": "ipython",
    "version": 3
   },
   "file_extension": ".py",
   "mimetype": "text/x-python",
   "name": "python",
   "nbconvert_exporter": "python",
   "pygments_lexer": "ipython3",
   "version": "3.6.4"
  }
 },
 "nbformat": 4,
 "nbformat_minor": 2
}
